{
 "cells": [
  {
   "cell_type": "code",
   "execution_count": 1,
   "metadata": {},
   "outputs": [
    {
     "name": "stderr",
     "output_type": "stream",
     "text": [
      "/home/aj/miniconda3/lib/python3.7/site-packages/tensorflow/python/framework/dtypes.py:516: FutureWarning: Passing (type, 1) or '1type' as a synonym of type is deprecated; in a future version of numpy, it will be understood as (type, (1,)) / '(1,)type'.\n",
      "  _np_qint8 = np.dtype([(\"qint8\", np.int8, 1)])\n",
      "/home/aj/miniconda3/lib/python3.7/site-packages/tensorflow/python/framework/dtypes.py:517: FutureWarning: Passing (type, 1) or '1type' as a synonym of type is deprecated; in a future version of numpy, it will be understood as (type, (1,)) / '(1,)type'.\n",
      "  _np_quint8 = np.dtype([(\"quint8\", np.uint8, 1)])\n",
      "/home/aj/miniconda3/lib/python3.7/site-packages/tensorflow/python/framework/dtypes.py:518: FutureWarning: Passing (type, 1) or '1type' as a synonym of type is deprecated; in a future version of numpy, it will be understood as (type, (1,)) / '(1,)type'.\n",
      "  _np_qint16 = np.dtype([(\"qint16\", np.int16, 1)])\n",
      "/home/aj/miniconda3/lib/python3.7/site-packages/tensorflow/python/framework/dtypes.py:519: FutureWarning: Passing (type, 1) or '1type' as a synonym of type is deprecated; in a future version of numpy, it will be understood as (type, (1,)) / '(1,)type'.\n",
      "  _np_quint16 = np.dtype([(\"quint16\", np.uint16, 1)])\n",
      "/home/aj/miniconda3/lib/python3.7/site-packages/tensorflow/python/framework/dtypes.py:520: FutureWarning: Passing (type, 1) or '1type' as a synonym of type is deprecated; in a future version of numpy, it will be understood as (type, (1,)) / '(1,)type'.\n",
      "  _np_qint32 = np.dtype([(\"qint32\", np.int32, 1)])\n",
      "/home/aj/miniconda3/lib/python3.7/site-packages/tensorflow/python/framework/dtypes.py:525: FutureWarning: Passing (type, 1) or '1type' as a synonym of type is deprecated; in a future version of numpy, it will be understood as (type, (1,)) / '(1,)type'.\n",
      "  np_resource = np.dtype([(\"resource\", np.ubyte, 1)])\n",
      "/home/aj/miniconda3/lib/python3.7/site-packages/tensorboard/compat/tensorflow_stub/dtypes.py:541: FutureWarning: Passing (type, 1) or '1type' as a synonym of type is deprecated; in a future version of numpy, it will be understood as (type, (1,)) / '(1,)type'.\n",
      "  _np_qint8 = np.dtype([(\"qint8\", np.int8, 1)])\n",
      "/home/aj/miniconda3/lib/python3.7/site-packages/tensorboard/compat/tensorflow_stub/dtypes.py:542: FutureWarning: Passing (type, 1) or '1type' as a synonym of type is deprecated; in a future version of numpy, it will be understood as (type, (1,)) / '(1,)type'.\n",
      "  _np_quint8 = np.dtype([(\"quint8\", np.uint8, 1)])\n",
      "/home/aj/miniconda3/lib/python3.7/site-packages/tensorboard/compat/tensorflow_stub/dtypes.py:543: FutureWarning: Passing (type, 1) or '1type' as a synonym of type is deprecated; in a future version of numpy, it will be understood as (type, (1,)) / '(1,)type'.\n",
      "  _np_qint16 = np.dtype([(\"qint16\", np.int16, 1)])\n",
      "/home/aj/miniconda3/lib/python3.7/site-packages/tensorboard/compat/tensorflow_stub/dtypes.py:544: FutureWarning: Passing (type, 1) or '1type' as a synonym of type is deprecated; in a future version of numpy, it will be understood as (type, (1,)) / '(1,)type'.\n",
      "  _np_quint16 = np.dtype([(\"quint16\", np.uint16, 1)])\n",
      "/home/aj/miniconda3/lib/python3.7/site-packages/tensorboard/compat/tensorflow_stub/dtypes.py:545: FutureWarning: Passing (type, 1) or '1type' as a synonym of type is deprecated; in a future version of numpy, it will be understood as (type, (1,)) / '(1,)type'.\n",
      "  _np_qint32 = np.dtype([(\"qint32\", np.int32, 1)])\n",
      "/home/aj/miniconda3/lib/python3.7/site-packages/tensorboard/compat/tensorflow_stub/dtypes.py:550: FutureWarning: Passing (type, 1) or '1type' as a synonym of type is deprecated; in a future version of numpy, it will be understood as (type, (1,)) / '(1,)type'.\n",
      "  np_resource = np.dtype([(\"resource\", np.ubyte, 1)])\n",
      "Using TensorFlow backend.\n"
     ]
    }
   ],
   "source": [
    "import os\n",
    "import h5py\n",
    "import numpy as np\n",
    "from matplotlib import image\n",
    "import matplotlib.pyplot as plot\n",
    "import numpy as np\n",
    "import json\n",
    "import io\n",
    "import unicodecsv as csv\n",
    "import tensorflow as tf\n",
    "import gc\n",
    "#import PIL\n",
    "#from PIL import Image\n",
    "#print('Pillow Version:', PIL.__version__)\n",
    "\n",
    "import numpy as np\n",
    "import tensorflow.keras as tkeras\n",
    "from tensorflow.keras import layers\n",
    "from tensorflow.keras.layers import Input, Add, Dense, Activation, ZeroPadding2D, BatchNormalization, Flatten, Dropout\n",
    "from tensorflow.keras.layers import Conv2D, AveragePooling2D, MaxPooling2D, GlobalMaxPooling2D, LSTM\n",
    "from tensorflow.keras.models import Model, load_model, Sequential\n",
    "from tensorflow.keras.preprocessing import image\n",
    "from keras.utils import layer_utils\n",
    "from keras.utils.data_utils import get_file\n",
    "#from keras.applications.imagenet_utils import preprocess_input\n",
    "from keras.callbacks import ModelCheckpoint, EarlyStopping, ReduceLROnPlateau, CSVLogger\n",
    "from keras import optimizers\n",
    "\n",
    "\n",
    "\n",
    "import pydot\n",
    "from IPython.display import SVG\n",
    "from keras.utils.vis_utils import model_to_dot\n",
    "from tensorflow.keras.utils import plot_model\n",
    "#from resnets_utils import *\n",
    "from tensorflow.keras.initializers import glorot_uniform\n",
    "import scipy.misc\n",
    "from matplotlib.pyplot import imshow\n",
    "%matplotlib inline\n",
    "\n",
    "import tensorflow.keras.backend as K\n",
    "K.set_image_data_format('channels_last')\n",
    "K.set_learning_phase(1)\n",
    "\n",
    "\n",
    "import numpy as np\n",
    "import os\n",
    "import sys\n",
    "import time\n",
    "import pandas as pd \n",
    "#from tqdm._tqdm_notebook import tqdm_notebook\n",
    "import pickle\n",
    "\n",
    "cutoff = 10.0\n",
    "\n",
    "# from keras.wrappers.scikit_learn import KerasClassifier\n",
    "#from sklearn.preprocessing import MinMaxScaler\n",
    "#from sklearn.model_selection import train_test_split\n",
    "#from sklearn.metrics import mean_squared_error\n",
    "#import logging\n"
   ]
  },
  {
   "cell_type": "code",
   "execution_count": 2,
   "metadata": {},
   "outputs": [
    {
     "name": "stdout",
     "output_type": "stream",
     "text": [
      "Num GPUs Available:  1\n"
     ]
    }
   ],
   "source": [
    "INPUT_PATH = \"/home/aj/eurusd\"\n",
    "TIMESTEPS = 100\n",
    "BATCHSIZE = 100\n",
    "NUMRECORDS = 10398\n",
    "print(\"Num GPUs Available: \", len(tf.config.experimental.list_physical_devices('GPU')))\n"
   ]
  },
  {
   "cell_type": "code",
   "execution_count": 3,
   "metadata": {},
   "outputs": [
    {
     "name": "stdout",
     "output_type": "stream",
     "text": [
      "(10398, 6)\n",
      "Index(['Date', 'Price', 'Open', 'High', 'Low', 'Change %'], dtype='object')\n",
      "10298\n",
      "4\n"
     ]
    }
   ],
   "source": [
    "eurusddata = pd.read_csv(os.path.join(INPUT_PATH, \"EURUSDDAILY.csv\"), engine='python')\n",
    "print(eurusddata.shape)\n",
    "print(eurusddata.columns)\n",
    "\n",
    "#display(eurusddata.head(5))\n",
    "#display(eurusddata.tail(1451))\n",
    "\n",
    "\n",
    "\n",
    "dim_0 = eurusddata.shape[0] - TIMESTEPS \n",
    "dim_1 = eurusddata.shape[1] -2\n",
    "print(dim_0)\n",
    "print(dim_1)\n",
    "dim_1 = 1"
   ]
  },
  {
   "cell_type": "code",
   "execution_count": 4,
   "metadata": {},
   "outputs": [
    {
     "data": {
      "text/html": [
       "<div>\n",
       "<style scoped>\n",
       "    .dataframe tbody tr th:only-of-type {\n",
       "        vertical-align: middle;\n",
       "    }\n",
       "\n",
       "    .dataframe tbody tr th {\n",
       "        vertical-align: top;\n",
       "    }\n",
       "\n",
       "    .dataframe thead th {\n",
       "        text-align: right;\n",
       "    }\n",
       "</style>\n",
       "<table border=\"1\" class=\"dataframe\">\n",
       "  <thead>\n",
       "    <tr style=\"text-align: right;\">\n",
       "      <th></th>\n",
       "      <th>Date</th>\n",
       "      <th>Price</th>\n",
       "      <th>Open</th>\n",
       "      <th>High</th>\n",
       "      <th>Low</th>\n",
       "      <th>Change %</th>\n",
       "    </tr>\n",
       "  </thead>\n",
       "  <tbody>\n",
       "    <tr>\n",
       "      <th>10397</th>\n",
       "      <td>8-Aug-80</td>\n",
       "      <td>1.4599</td>\n",
       "      <td>1.4599</td>\n",
       "      <td>1.4599</td>\n",
       "      <td>1.4599</td>\n",
       "      <td>-0.08%</td>\n",
       "    </tr>\n",
       "    <tr>\n",
       "      <th>10396</th>\n",
       "      <td>11-Aug-80</td>\n",
       "      <td>1.4592</td>\n",
       "      <td>1.4592</td>\n",
       "      <td>1.4592</td>\n",
       "      <td>1.4592</td>\n",
       "      <td>-0.05%</td>\n",
       "    </tr>\n",
       "    <tr>\n",
       "      <th>10395</th>\n",
       "      <td>12-Aug-80</td>\n",
       "      <td>1.4607</td>\n",
       "      <td>1.4607</td>\n",
       "      <td>1.4607</td>\n",
       "      <td>1.4607</td>\n",
       "      <td>0.10%</td>\n",
       "    </tr>\n",
       "    <tr>\n",
       "      <th>10394</th>\n",
       "      <td>13-Aug-80</td>\n",
       "      <td>1.4620</td>\n",
       "      <td>1.4620</td>\n",
       "      <td>1.4620</td>\n",
       "      <td>1.4620</td>\n",
       "      <td>0.09%</td>\n",
       "    </tr>\n",
       "    <tr>\n",
       "      <th>10393</th>\n",
       "      <td>14-Aug-80</td>\n",
       "      <td>1.4571</td>\n",
       "      <td>1.4571</td>\n",
       "      <td>1.4571</td>\n",
       "      <td>1.4571</td>\n",
       "      <td>-0.34%</td>\n",
       "    </tr>\n",
       "    <tr>\n",
       "      <th>...</th>\n",
       "      <td>...</td>\n",
       "      <td>...</td>\n",
       "      <td>...</td>\n",
       "      <td>...</td>\n",
       "      <td>...</td>\n",
       "      <td>...</td>\n",
       "    </tr>\n",
       "    <tr>\n",
       "      <th>8951</th>\n",
       "      <td>30-Apr-86</td>\n",
       "      <td>0.9938</td>\n",
       "      <td>0.9938</td>\n",
       "      <td>0.9938</td>\n",
       "      <td>0.9938</td>\n",
       "      <td>0.09%</td>\n",
       "    </tr>\n",
       "    <tr>\n",
       "      <th>8950</th>\n",
       "      <td>1-May-86</td>\n",
       "      <td>0.9793</td>\n",
       "      <td>0.9793</td>\n",
       "      <td>0.9793</td>\n",
       "      <td>0.9793</td>\n",
       "      <td>-1.46%</td>\n",
       "    </tr>\n",
       "    <tr>\n",
       "      <th>8949</th>\n",
       "      <td>2-May-86</td>\n",
       "      <td>0.9790</td>\n",
       "      <td>0.9790</td>\n",
       "      <td>0.9790</td>\n",
       "      <td>0.9790</td>\n",
       "      <td>-0.03%</td>\n",
       "    </tr>\n",
       "    <tr>\n",
       "      <th>8948</th>\n",
       "      <td>6-May-86</td>\n",
       "      <td>0.9747</td>\n",
       "      <td>0.9747</td>\n",
       "      <td>0.9747</td>\n",
       "      <td>0.9747</td>\n",
       "      <td>-0.44%</td>\n",
       "    </tr>\n",
       "    <tr>\n",
       "      <th>8947</th>\n",
       "      <td>7-May-86</td>\n",
       "      <td>0.9846</td>\n",
       "      <td>0.9846</td>\n",
       "      <td>0.9870</td>\n",
       "      <td>0.9808</td>\n",
       "      <td>1.02%</td>\n",
       "    </tr>\n",
       "  </tbody>\n",
       "</table>\n",
       "<p>1451 rows × 6 columns</p>\n",
       "</div>"
      ],
      "text/plain": [
       "            Date   Price    Open    High     Low Change %\n",
       "10397   8-Aug-80  1.4599  1.4599  1.4599  1.4599   -0.08%\n",
       "10396  11-Aug-80  1.4592  1.4592  1.4592  1.4592   -0.05%\n",
       "10395  12-Aug-80  1.4607  1.4607  1.4607  1.4607    0.10%\n",
       "10394  13-Aug-80  1.4620  1.4620  1.4620  1.4620    0.09%\n",
       "10393  14-Aug-80  1.4571  1.4571  1.4571  1.4571   -0.34%\n",
       "...          ...     ...     ...     ...     ...      ...\n",
       "8951   30-Apr-86  0.9938  0.9938  0.9938  0.9938    0.09%\n",
       "8950    1-May-86  0.9793  0.9793  0.9793  0.9793   -1.46%\n",
       "8949    2-May-86  0.9790  0.9790  0.9790  0.9790   -0.03%\n",
       "8948    6-May-86  0.9747  0.9747  0.9747  0.9747   -0.44%\n",
       "8947    7-May-86  0.9846  0.9846  0.9870  0.9808    1.02%\n",
       "\n",
       "[1451 rows x 6 columns]"
      ]
     },
     "metadata": {},
     "output_type": "display_data"
    }
   ],
   "source": [
    "#ffg\n",
    "pricearray2 = np.zeros((10398,2))\n",
    "pricearray = np.zeros((10398,1))\n",
    "\n",
    "#gg\n",
    "eurusddata1 = eurusddata.iloc[::-1]\n",
    "display(eurusddata1.head(1451))\n",
    "#display(eurusddata1.tail(5))\n",
    "\n",
    "\n",
    "# IMPORTANT: Data flat from record# 0 till record# 1450\n",
    "\n"
   ]
  },
  {
   "cell_type": "markdown",
   "metadata": {},
   "source": [
    "        \n",
    "for i in range(dim_0+TIMESTEPS):\n",
    "            \n",
    "            #print(TIMESTEPS+j+1)\n",
    "        pricearray[i] = eurusddata1.iloc[0+i, 3:4]"
   ]
  },
  {
   "cell_type": "code",
   "execution_count": 5,
   "metadata": {},
   "outputs": [],
   "source": [
    "for i in range(dim_0+TIMESTEPS):\n",
    "            \n",
    "            #print(TIMESTEPS+j+1)\n",
    "        pricearray2[i] = eurusddata1.iloc[0+i, 3:5]"
   ]
  },
  {
   "cell_type": "code",
   "execution_count": 6,
   "metadata": {},
   "outputs": [
    {
     "name": "stdout",
     "output_type": "stream",
     "text": [
      "[0.9747 0.9747]\n",
      "[0.9851 0.9804]\n"
     ]
    }
   ],
   "source": [
    "print(pricearray2[1449])\n",
    "\n",
    "print(pricearray2[1451])\n",
    "\n",
    "#pricearray = pricearray2[0] - pricearray2[1]\n",
    "\n",
    "yy = pricearray2[:, 0] \n",
    "\n",
    "yyy = pricearray2[:, 1] \n",
    "\n",
    "\n",
    "pricearray  = pricearray2[:, 0]  - pricearray2[:, 1] "
   ]
  },
  {
   "cell_type": "code",
   "execution_count": 7,
   "metadata": {},
   "outputs": [
    {
     "data": {
      "text/plain": [
       "(10398,)"
      ]
     },
     "execution_count": 7,
     "metadata": {},
     "output_type": "execute_result"
    }
   ],
   "source": [
    "pricearray.shape"
   ]
  },
  {
   "cell_type": "code",
   "execution_count": 8,
   "metadata": {},
   "outputs": [
    {
     "data": {
      "text/plain": [
       "(10398,)"
      ]
     },
     "execution_count": 8,
     "metadata": {},
     "output_type": "execute_result"
    }
   ],
   "source": [
    "yyy.shape"
   ]
  },
  {
   "cell_type": "code",
   "execution_count": 9,
   "metadata": {},
   "outputs": [
    {
     "name": "stdout",
     "output_type": "stream",
     "text": [
      "0.0\n",
      "0.0046999999999999265\n",
      "0.0\n",
      "0.06879999999999997\n"
     ]
    }
   ],
   "source": [
    "print(pricearray[1449])\n",
    "\n",
    "\n",
    "print(pricearray[1451])\n",
    "offsetmin = np.amin(pricearray)\n",
    "maxinrange = np.amax(pricearray)\n",
    "print(offsetmin)\n",
    "print(maxinrange)"
   ]
  },
  {
   "cell_type": "code",
   "execution_count": 10,
   "metadata": {},
   "outputs": [
    {
     "name": "stdout",
     "output_type": "stream",
     "text": [
      "0.0\n",
      "0.0046999999999999265\n",
      "0.006399999999999961\n",
      "0.0\n",
      "0.0046999999999999265\n",
      "0.006399999999999961\n"
     ]
    }
   ],
   "source": [
    "print(pricearray[1449])\n",
    "print(pricearray[1451])\n",
    "print(pricearray[2451])\n",
    "#pricearray = pricearray/(maxinrange + 0.0001)\n",
    "print(pricearray[1449])\n",
    "print(pricearray[1451])\n",
    "print(pricearray[2451])"
   ]
  },
  {
   "cell_type": "code",
   "execution_count": 11,
   "metadata": {},
   "outputs": [
    {
     "name": "stdout",
     "output_type": "stream",
     "text": [
      "0.0\n",
      "0.06879999999999997\n"
     ]
    }
   ],
   "source": [
    "offsetmin = np.amin(pricearray)\n",
    "maxinrange = np.amax(pricearray)\n",
    "print(offsetmin)\n",
    "print(maxinrange)"
   ]
  },
  {
   "cell_type": "code",
   "execution_count": 12,
   "metadata": {},
   "outputs": [],
   "source": [
    "#for i in range(len(pricearray)):\n",
    "   # if pricearray[i] == 0.0:\n",
    "     #   print(i)"
   ]
  },
  {
   "cell_type": "code",
   "execution_count": 13,
   "metadata": {},
   "outputs": [],
   "source": [
    "#fsdfsa"
   ]
  },
  {
   "cell_type": "code",
   "execution_count": 14,
   "metadata": {},
   "outputs": [],
   "source": [
    "xxx = np.zeros((dim_0-1450, 1, TIMESTEPS ))\n",
    "yyy = np.zeros((dim_0-1450, dim_1))"
   ]
  },
  {
   "cell_type": "code",
   "execution_count": 15,
   "metadata": {},
   "outputs": [
    {
     "data": {
      "text/plain": [
       "(8848, 1, 100)"
      ]
     },
     "execution_count": 15,
     "metadata": {},
     "output_type": "execute_result"
    }
   ],
   "source": [
    "xxx.shape\n"
   ]
  },
  {
   "cell_type": "code",
   "execution_count": 16,
   "metadata": {},
   "outputs": [
    {
     "data": {
      "text/plain": [
       "(8848, 1)"
      ]
     },
     "execution_count": 16,
     "metadata": {},
     "output_type": "execute_result"
    }
   ],
   "source": [
    "yyy.shape"
   ]
  },
  {
   "cell_type": "code",
   "execution_count": 17,
   "metadata": {},
   "outputs": [
    {
     "name": "stdout",
     "output_type": "stream",
     "text": [
      "0.0\n",
      "0.0046999999999999265\n",
      "0.006399999999999961\n"
     ]
    }
   ],
   "source": [
    "\n",
    "#pricearray = pricearray.reshape(10398, 1)\n",
    "\n",
    "print(pricearray[1449])\n",
    "print(pricearray[1451])\n",
    "print(pricearray[2451])\n"
   ]
  },
  {
   "cell_type": "code",
   "execution_count": 18,
   "metadata": {},
   "outputs": [],
   "source": [
    "'''\n",
    "arr = eurusddata1.to_numpy()\n",
    "import matplotlib.pyplot as plt\n",
    "plt.rcParams['figure.figsize'] = [120, 80]\n",
    "x = np.arange(10398)\n",
    "\n",
    "y1 = arr[:, 1]\n",
    "y2 = arr[:, 2]\n",
    "y3 = arr[:, 3]\n",
    "y4 = arr[:, 4]\n",
    "print(y1)\n",
    "print(y2)\n",
    "print(y3)\n",
    "print(y4)\n",
    "\n",
    "\n",
    "#plt.plot(x, y1, label=\"John\")\n",
    "\n",
    "#plt.plot(x, y2, label=\"David\")\n",
    "\n",
    "#plt.plot(x, y3, label=\"Tom\")\n",
    "\n",
    "plt.plot(x, y3 - y4, label=\"Tomato\")\n",
    "\n",
    "pricearray\n",
    "'''\n",
    "\n",
    "\n",
    "eurusddata1 = eurusddata.iloc[::-1]\n",
    "#display(eurusddata1.head(61))\n",
    "#display(eurusddata1.tail(5))\n",
    "\n",
    "for i in range(dim_0-1450):\n",
    "            \n",
    "            #print(TIMESTEPS+j+1)\n",
    "            s = pricearray[1450+i:1450+TIMESTEPS+i]\n",
    "            xxx[i] = s.reshape(1,TIMESTEPS)\n",
    "            yyy[i] = pricearray[1450+TIMESTEPS+i]"
   ]
  },
  {
   "cell_type": "code",
   "execution_count": 19,
   "metadata": {},
   "outputs": [
    {
     "name": "stdout",
     "output_type": "stream",
     "text": [
      "[[0.0062 0.0047 0.0052 0.0152 0.0066 0.0075 0.0062 0.0029 0.0161 0.0052\n",
      "  0.0072 0.009  0.0009 0.009  0.0071 0.0067 0.0066 0.0099 0.0156 0.008\n",
      "  0.0095 0.0057 0.0071 0.0147 0.0052 0.0066 0.0062 0.0052 0.0076 0.0109\n",
      "  0.0047 0.0028 0.0052 0.0061 0.0071 0.0023 0.0062 0.0052 0.0057 0.0052\n",
      "  0.0038 0.0019 0.0075 0.0071 0.0109 0.0042 0.0024 0.0042 0.0062 0.0047\n",
      "  0.0043 0.0023 0.0085 0.0086 0.0109 0.0062 0.0067 0.0076 0.0071 0.0071\n",
      "  0.0042 0.0056 0.0066 0.0071 0.0047 0.0033 0.0066 0.0047 0.0062 0.0033\n",
      "  0.0024 0.0029 0.0057 0.0109 0.0053 0.0052 0.0043 0.0024 0.0033 0.0066\n",
      "  0.0062 0.0109 0.0034 0.0033 0.0075 0.0052 0.0086 0.0095 0.0075 0.0061\n",
      "  0.0122 0.0194 0.0085 0.0053 0.009  0.0095 0.0056 0.009  0.0095 0.009 ]]\n",
      "[0.0028]\n",
      "[[0.0047 0.0052 0.0152 0.0066 0.0075 0.0062 0.0029 0.0161 0.0052 0.0072\n",
      "  0.009  0.0009 0.009  0.0071 0.0067 0.0066 0.0099 0.0156 0.008  0.0095\n",
      "  0.0057 0.0071 0.0147 0.0052 0.0066 0.0062 0.0052 0.0076 0.0109 0.0047\n",
      "  0.0028 0.0052 0.0061 0.0071 0.0023 0.0062 0.0052 0.0057 0.0052 0.0038\n",
      "  0.0019 0.0075 0.0071 0.0109 0.0042 0.0024 0.0042 0.0062 0.0047 0.0043\n",
      "  0.0023 0.0085 0.0086 0.0109 0.0062 0.0067 0.0076 0.0071 0.0071 0.0042\n",
      "  0.0056 0.0066 0.0071 0.0047 0.0033 0.0066 0.0047 0.0062 0.0033 0.0024\n",
      "  0.0029 0.0057 0.0109 0.0053 0.0052 0.0043 0.0024 0.0033 0.0066 0.0062\n",
      "  0.0109 0.0034 0.0033 0.0075 0.0052 0.0086 0.0095 0.0075 0.0061 0.0122\n",
      "  0.0194 0.0085 0.0053 0.009  0.0095 0.0056 0.009  0.0095 0.009  0.0028]]\n",
      "[0.0047]\n",
      "[[0.0057 0.0066 0.0084 0.0093 0.0105 0.0054 0.008  0.0068 0.014  0.0085\n",
      "  0.0085 0.0101 0.0066 0.0069 0.0062 0.0051 0.0101 0.0086 0.0051 0.0062\n",
      "  0.0128 0.0076 0.0082 0.0074 0.0076 0.0045 0.0106 0.0098 0.0103 0.0076\n",
      "  0.006  0.0083 0.0091 0.0169 0.0107 0.0054 0.0124 0.0101 0.0117 0.0129\n",
      "  0.0108 0.0125 0.0088 0.0079 0.0087 0.0103 0.0117 0.0079 0.0071 0.0047\n",
      "  0.0073 0.0072 0.0091 0.0081 0.0035 0.0106 0.0076 0.009  0.0093 0.0071\n",
      "  0.0078 0.0085 0.0061 0.0073 0.0067 0.0067 0.0118 0.0095 0.0089 0.0079\n",
      "  0.0145 0.0076 0.0093 0.0118 0.015  0.0101 0.0087 0.0113 0.0099 0.0129\n",
      "  0.0067 0.0086 0.0106 0.0084 0.007  0.0053 0.0102 0.0124 0.0067 0.0129\n",
      "  0.0068 0.0062 0.0069 0.014  0.011  0.0084 0.0111 0.0109 0.0077 0.0085]]\n",
      "[0.0038]\n",
      "[[0.0066 0.0084 0.0093 0.0105 0.0054 0.008  0.0068 0.014  0.0085 0.0085\n",
      "  0.0101 0.0066 0.0069 0.0062 0.0051 0.0101 0.0086 0.0051 0.0062 0.0128\n",
      "  0.0076 0.0082 0.0074 0.0076 0.0045 0.0106 0.0098 0.0103 0.0076 0.006\n",
      "  0.0083 0.0091 0.0169 0.0107 0.0054 0.0124 0.0101 0.0117 0.0129 0.0108\n",
      "  0.0125 0.0088 0.0079 0.0087 0.0103 0.0117 0.0079 0.0071 0.0047 0.0073\n",
      "  0.0072 0.0091 0.0081 0.0035 0.0106 0.0076 0.009  0.0093 0.0071 0.0078\n",
      "  0.0085 0.0061 0.0073 0.0067 0.0067 0.0118 0.0095 0.0089 0.0079 0.0145\n",
      "  0.0076 0.0093 0.0118 0.015  0.0101 0.0087 0.0113 0.0099 0.0129 0.0067\n",
      "  0.0086 0.0106 0.0084 0.007  0.0053 0.0102 0.0124 0.0067 0.0129 0.0068\n",
      "  0.0062 0.0069 0.014  0.011  0.0084 0.0111 0.0109 0.0077 0.0085 0.0038]]\n",
      "[0.007]\n"
     ]
    }
   ],
   "source": [
    "\n",
    "\n",
    "print(xxx[0])\n",
    "print(yyy[0])\n",
    "\n",
    "print(xxx[1])\n",
    "print(yyy[1])\n",
    "\n",
    "print(xxx[10296-1450])\n",
    "print(yyy[10296-1450])\n",
    "\n",
    "print(xxx[10297-1450])\n",
    "print(yyy[10297-1450])\n"
   ]
  },
  {
   "cell_type": "code",
   "execution_count": 20,
   "metadata": {},
   "outputs": [
    {
     "data": {
      "text/plain": [
       "'\\nx1 = x[:,:,1]\\ny1 = y[:,:,1]\\nprint(x1)\\nprint(y1)\\n'"
      ]
     },
     "execution_count": 20,
     "metadata": {},
     "output_type": "execute_result"
    }
   ],
   "source": [
    "'''\n",
    "x1 = x[:,:,1]\n",
    "y1 = y[:,:,1]\n",
    "print(x1)\n",
    "print(y1)\n",
    "'''"
   ]
  },
  {
   "cell_type": "code",
   "execution_count": 21,
   "metadata": {},
   "outputs": [
    {
     "data": {
      "text/plain": [
       "'\\nx = x1 - x0\\ny = y1 - y0\\nfor i in range(1):\\n           print(x[i])\\n           print(y[i])\\n\\nj=1\\n\\nprint(x[3015])\\nprint(y[3015])\\nx =  x[3015:,:]\\ny =  y[3015:,:]\\n'"
      ]
     },
     "execution_count": 21,
     "metadata": {},
     "output_type": "execute_result"
    }
   ],
   "source": [
    "'''\n",
    "x = x1 - x0\n",
    "y = y1 - y0\n",
    "for i in range(1):\n",
    "           print(x[i])\n",
    "           print(y[i])\n",
    "\n",
    "j=1\n",
    "\n",
    "print(x[3015])\n",
    "print(y[3015])\n",
    "x =  x[3015:,:]\n",
    "y =  y[3015:,:]\n",
    "'''\n"
   ]
  },
  {
   "cell_type": "code",
   "execution_count": null,
   "metadata": {},
   "outputs": [],
   "source": [
    "\n",
    "\n"
   ]
  },
  {
   "cell_type": "code",
   "execution_count": null,
   "metadata": {},
   "outputs": [],
   "source": []
  },
  {
   "cell_type": "code",
   "execution_count": 22,
   "metadata": {},
   "outputs": [
    {
     "data": {
      "text/plain": [
       "(8848, 1, 100)"
      ]
     },
     "execution_count": 22,
     "metadata": {},
     "output_type": "execute_result"
    }
   ],
   "source": [
    "xxx.shape"
   ]
  },
  {
   "cell_type": "code",
   "execution_count": 23,
   "metadata": {},
   "outputs": [
    {
     "data": {
      "text/plain": [
       "(8848, 1)"
      ]
     },
     "execution_count": 23,
     "metadata": {},
     "output_type": "execute_result"
    }
   ],
   "source": [
    "yyy.shape"
   ]
  },
  {
   "cell_type": "code",
   "execution_count": 24,
   "metadata": {},
   "outputs": [
    {
     "name": "stdout",
     "output_type": "stream",
     "text": [
      "[[0.0062 0.0047 0.0052 0.0152 0.0066 0.0075 0.0062 0.0029 0.0161 0.0052\n",
      "  0.0072 0.009  0.0009 0.009  0.0071 0.0067 0.0066 0.0099 0.0156 0.008\n",
      "  0.0095 0.0057 0.0071 0.0147 0.0052 0.0066 0.0062 0.0052 0.0076 0.0109\n",
      "  0.0047 0.0028 0.0052 0.0061 0.0071 0.0023 0.0062 0.0052 0.0057 0.0052\n",
      "  0.0038 0.0019 0.0075 0.0071 0.0109 0.0042 0.0024 0.0042 0.0062 0.0047\n",
      "  0.0043 0.0023 0.0085 0.0086 0.0109 0.0062 0.0067 0.0076 0.0071 0.0071\n",
      "  0.0042 0.0056 0.0066 0.0071 0.0047 0.0033 0.0066 0.0047 0.0062 0.0033\n",
      "  0.0024 0.0029 0.0057 0.0109 0.0053 0.0052 0.0043 0.0024 0.0033 0.0066\n",
      "  0.0062 0.0109 0.0034 0.0033 0.0075 0.0052 0.0086 0.0095 0.0075 0.0061\n",
      "  0.0122 0.0194 0.0085 0.0053 0.009  0.0095 0.0056 0.009  0.0095 0.009 ]]\n",
      "[0.0028]\n",
      "[[0.0047 0.0052 0.0152 0.0066 0.0075 0.0062 0.0029 0.0161 0.0052 0.0072\n",
      "  0.009  0.0009 0.009  0.0071 0.0067 0.0066 0.0099 0.0156 0.008  0.0095\n",
      "  0.0057 0.0071 0.0147 0.0052 0.0066 0.0062 0.0052 0.0076 0.0109 0.0047\n",
      "  0.0028 0.0052 0.0061 0.0071 0.0023 0.0062 0.0052 0.0057 0.0052 0.0038\n",
      "  0.0019 0.0075 0.0071 0.0109 0.0042 0.0024 0.0042 0.0062 0.0047 0.0043\n",
      "  0.0023 0.0085 0.0086 0.0109 0.0062 0.0067 0.0076 0.0071 0.0071 0.0042\n",
      "  0.0056 0.0066 0.0071 0.0047 0.0033 0.0066 0.0047 0.0062 0.0033 0.0024\n",
      "  0.0029 0.0057 0.0109 0.0053 0.0052 0.0043 0.0024 0.0033 0.0066 0.0062\n",
      "  0.0109 0.0034 0.0033 0.0075 0.0052 0.0086 0.0095 0.0075 0.0061 0.0122\n",
      "  0.0194 0.0085 0.0053 0.009  0.0095 0.0056 0.009  0.0095 0.009  0.0028]]\n",
      "[0.0047]\n",
      "[[0.0052 0.0152 0.0066 0.0075 0.0062 0.0029 0.0161 0.0052 0.0072 0.009\n",
      "  0.0009 0.009  0.0071 0.0067 0.0066 0.0099 0.0156 0.008  0.0095 0.0057\n",
      "  0.0071 0.0147 0.0052 0.0066 0.0062 0.0052 0.0076 0.0109 0.0047 0.0028\n",
      "  0.0052 0.0061 0.0071 0.0023 0.0062 0.0052 0.0057 0.0052 0.0038 0.0019\n",
      "  0.0075 0.0071 0.0109 0.0042 0.0024 0.0042 0.0062 0.0047 0.0043 0.0023\n",
      "  0.0085 0.0086 0.0109 0.0062 0.0067 0.0076 0.0071 0.0071 0.0042 0.0056\n",
      "  0.0066 0.0071 0.0047 0.0033 0.0066 0.0047 0.0062 0.0033 0.0024 0.0029\n",
      "  0.0057 0.0109 0.0053 0.0052 0.0043 0.0024 0.0033 0.0066 0.0062 0.0109\n",
      "  0.0034 0.0033 0.0075 0.0052 0.0086 0.0095 0.0075 0.0061 0.0122 0.0194\n",
      "  0.0085 0.0053 0.009  0.0095 0.0056 0.009  0.0095 0.009  0.0028 0.0047]]\n",
      "[0.0048]\n",
      "[[0.0152 0.0066 0.0075 0.0062 0.0029 0.0161 0.0052 0.0072 0.009  0.0009\n",
      "  0.009  0.0071 0.0067 0.0066 0.0099 0.0156 0.008  0.0095 0.0057 0.0071\n",
      "  0.0147 0.0052 0.0066 0.0062 0.0052 0.0076 0.0109 0.0047 0.0028 0.0052\n",
      "  0.0061 0.0071 0.0023 0.0062 0.0052 0.0057 0.0052 0.0038 0.0019 0.0075\n",
      "  0.0071 0.0109 0.0042 0.0024 0.0042 0.0062 0.0047 0.0043 0.0023 0.0085\n",
      "  0.0086 0.0109 0.0062 0.0067 0.0076 0.0071 0.0071 0.0042 0.0056 0.0066\n",
      "  0.0071 0.0047 0.0033 0.0066 0.0047 0.0062 0.0033 0.0024 0.0029 0.0057\n",
      "  0.0109 0.0053 0.0052 0.0043 0.0024 0.0033 0.0066 0.0062 0.0109 0.0034\n",
      "  0.0033 0.0075 0.0052 0.0086 0.0095 0.0075 0.0061 0.0122 0.0194 0.0085\n",
      "  0.0053 0.009  0.0095 0.0056 0.009  0.0095 0.009  0.0028 0.0047 0.0048]]\n",
      "[0.0085]\n",
      "[[0.0066 0.0075 0.0062 0.0029 0.0161 0.0052 0.0072 0.009  0.0009 0.009\n",
      "  0.0071 0.0067 0.0066 0.0099 0.0156 0.008  0.0095 0.0057 0.0071 0.0147\n",
      "  0.0052 0.0066 0.0062 0.0052 0.0076 0.0109 0.0047 0.0028 0.0052 0.0061\n",
      "  0.0071 0.0023 0.0062 0.0052 0.0057 0.0052 0.0038 0.0019 0.0075 0.0071\n",
      "  0.0109 0.0042 0.0024 0.0042 0.0062 0.0047 0.0043 0.0023 0.0085 0.0086\n",
      "  0.0109 0.0062 0.0067 0.0076 0.0071 0.0071 0.0042 0.0056 0.0066 0.0071\n",
      "  0.0047 0.0033 0.0066 0.0047 0.0062 0.0033 0.0024 0.0029 0.0057 0.0109\n",
      "  0.0053 0.0052 0.0043 0.0024 0.0033 0.0066 0.0062 0.0109 0.0034 0.0033\n",
      "  0.0075 0.0052 0.0086 0.0095 0.0075 0.0061 0.0122 0.0194 0.0085 0.0053\n",
      "  0.009  0.0095 0.0056 0.009  0.0095 0.009  0.0028 0.0047 0.0048 0.0085]]\n",
      "[0.0033]\n"
     ]
    }
   ],
   "source": [
    "for i in range(5):\n",
    "    print(xxx[i])\n",
    "    print(yyy[i])"
   ]
  },
  {
   "cell_type": "code",
   "execution_count": 25,
   "metadata": {},
   "outputs": [
    {
     "name": "stdout",
     "output_type": "stream",
     "text": [
      "(7963, 1, 100)\n",
      "(7963, 1)\n",
      "(885, 1, 100)\n",
      "(885, 1)\n",
      "(796, 1, 100)\n",
      "(796, 1)\n",
      "(89, 1, 100)\n",
      "(89, 1)\n"
     ]
    }
   ],
   "source": [
    "arr_rand = np.random.rand(xxx.shape[0])\n",
    "split = arr_rand < np.percentile(arr_rand, 90)\n",
    "\n",
    "x_train = xxx[split]\n",
    "y_train = yyy[split]\n",
    "x_testeval = xxx[~split]\n",
    "y_testeval = yyy[~split]\n",
    "\n",
    "print(x_train.shape)\n",
    "print(y_train.shape)\n",
    "print(x_testeval.shape) \n",
    "print(y_testeval.shape)\n",
    "\n",
    "arr_rand1 = np.random.rand(x_testeval.shape[0])\n",
    "split1 = arr_rand1 < np.percentile(arr_rand1, 90)\n",
    "\n",
    "x_test = x_testeval[split1]\n",
    "y_test = y_testeval[split1]\n",
    "x_eval = x_testeval[~split1]\n",
    "y_eval = y_testeval[~split1]\n",
    "\n",
    "print(x_test.shape) \n",
    "print(y_test.shape)\n",
    "print(x_eval.shape) \n",
    "print(y_eval.shape)\n",
    "\n"
   ]
  },
  {
   "cell_type": "code",
   "execution_count": 26,
   "metadata": {},
   "outputs": [
    {
     "name": "stdout",
     "output_type": "stream",
     "text": [
      "[[0.0067 0.0066 0.0099 0.0156 0.008  0.0095 0.0057 0.0071 0.0147 0.0052\n",
      "  0.0066 0.0062 0.0052 0.0076 0.0109 0.0047 0.0028 0.0052 0.0061 0.0071\n",
      "  0.0023 0.0062 0.0052 0.0057 0.0052 0.0038 0.0019 0.0075 0.0071 0.0109\n",
      "  0.0042 0.0024 0.0042 0.0062 0.0047 0.0043 0.0023 0.0085 0.0086 0.0109\n",
      "  0.0062 0.0067 0.0076 0.0071 0.0071 0.0042 0.0056 0.0066 0.0071 0.0047\n",
      "  0.0033 0.0066 0.0047 0.0062 0.0033 0.0024 0.0029 0.0057 0.0109 0.0053\n",
      "  0.0052 0.0043 0.0024 0.0033 0.0066 0.0062 0.0109 0.0034 0.0033 0.0075\n",
      "  0.0052 0.0086 0.0095 0.0075 0.0061 0.0122 0.0194 0.0085 0.0053 0.009\n",
      "  0.0095 0.0056 0.009  0.0095 0.009  0.0028 0.0047 0.0048 0.0085 0.0033\n",
      "  0.0066 0.0099 0.0062 0.0133 0.0042 0.0057 0.009  0.0038 0.0076 0.0052]]\n",
      "[0.0043]\n",
      "[[0.0057 0.0052 0.0038 0.0019 0.0075 0.0071 0.0109 0.0042 0.0024 0.0042\n",
      "  0.0062 0.0047 0.0043 0.0023 0.0085 0.0086 0.0109 0.0062 0.0067 0.0076\n",
      "  0.0071 0.0071 0.0042 0.0056 0.0066 0.0071 0.0047 0.0033 0.0066 0.0047\n",
      "  0.0062 0.0033 0.0024 0.0029 0.0057 0.0109 0.0053 0.0052 0.0043 0.0024\n",
      "  0.0033 0.0066 0.0062 0.0109 0.0034 0.0033 0.0075 0.0052 0.0086 0.0095\n",
      "  0.0075 0.0061 0.0122 0.0194 0.0085 0.0053 0.009  0.0095 0.0056 0.009\n",
      "  0.0095 0.009  0.0028 0.0047 0.0048 0.0085 0.0033 0.0066 0.0099 0.0062\n",
      "  0.0133 0.0042 0.0057 0.009  0.0038 0.0076 0.0052 0.0043 0.0024 0.0105\n",
      "  0.0048 0.0038 0.0067 0.0076 0.01   0.0034 0.0033 0.0189 0.0095 0.0048\n",
      "  0.0033 0.0141 0.0071 0.0076 0.0057 0.0062 0.0048 0.0086 0.007  0.0042]]\n",
      "[0.0052]\n",
      "[[0.0019 0.0075 0.0071 0.0109 0.0042 0.0024 0.0042 0.0062 0.0047 0.0043\n",
      "  0.0023 0.0085 0.0086 0.0109 0.0062 0.0067 0.0076 0.0071 0.0071 0.0042\n",
      "  0.0056 0.0066 0.0071 0.0047 0.0033 0.0066 0.0047 0.0062 0.0033 0.0024\n",
      "  0.0029 0.0057 0.0109 0.0053 0.0052 0.0043 0.0024 0.0033 0.0066 0.0062\n",
      "  0.0109 0.0034 0.0033 0.0075 0.0052 0.0086 0.0095 0.0075 0.0061 0.0122\n",
      "  0.0194 0.0085 0.0053 0.009  0.0095 0.0056 0.009  0.0095 0.009  0.0028\n",
      "  0.0047 0.0048 0.0085 0.0033 0.0066 0.0099 0.0062 0.0133 0.0042 0.0057\n",
      "  0.009  0.0038 0.0076 0.0052 0.0043 0.0024 0.0105 0.0048 0.0038 0.0067\n",
      "  0.0076 0.01   0.0034 0.0033 0.0189 0.0095 0.0048 0.0033 0.0141 0.0071\n",
      "  0.0076 0.0057 0.0062 0.0048 0.0086 0.007  0.0042 0.0052 0.0066 0.0042]]\n",
      "[0.0033]\n",
      "[[0.0066 0.0047 0.0062 0.0033 0.0024 0.0029 0.0057 0.0109 0.0053 0.0052\n",
      "  0.0043 0.0024 0.0033 0.0066 0.0062 0.0109 0.0034 0.0033 0.0075 0.0052\n",
      "  0.0086 0.0095 0.0075 0.0061 0.0122 0.0194 0.0085 0.0053 0.009  0.0095\n",
      "  0.0056 0.009  0.0095 0.009  0.0028 0.0047 0.0048 0.0085 0.0033 0.0066\n",
      "  0.0099 0.0062 0.0133 0.0042 0.0057 0.009  0.0038 0.0076 0.0052 0.0043\n",
      "  0.0024 0.0105 0.0048 0.0038 0.0067 0.0076 0.01   0.0034 0.0033 0.0189\n",
      "  0.0095 0.0048 0.0033 0.0141 0.0071 0.0076 0.0057 0.0062 0.0048 0.0086\n",
      "  0.007  0.0042 0.0052 0.0066 0.0042 0.0033 0.0033 0.0109 0.0058 0.0019\n",
      "  0.0047 0.0056 0.0108 0.0042 0.0114 0.0053 0.0075 0.0085 0.0066 0.0042\n",
      "  0.0057 0.0038 0.0038 0.0028 0.0023 0.0019 0.01   0.008  0.0038 0.0077]]\n",
      "[0.0062]\n",
      "[[0.0052 0.0043 0.0024 0.0033 0.0066 0.0062 0.0109 0.0034 0.0033 0.0075\n",
      "  0.0052 0.0086 0.0095 0.0075 0.0061 0.0122 0.0194 0.0085 0.0053 0.009\n",
      "  0.0095 0.0056 0.009  0.0095 0.009  0.0028 0.0047 0.0048 0.0085 0.0033\n",
      "  0.0066 0.0099 0.0062 0.0133 0.0042 0.0057 0.009  0.0038 0.0076 0.0052\n",
      "  0.0043 0.0024 0.0105 0.0048 0.0038 0.0067 0.0076 0.01   0.0034 0.0033\n",
      "  0.0189 0.0095 0.0048 0.0033 0.0141 0.0071 0.0076 0.0057 0.0062 0.0048\n",
      "  0.0086 0.007  0.0042 0.0052 0.0066 0.0042 0.0033 0.0033 0.0109 0.0058\n",
      "  0.0019 0.0047 0.0056 0.0108 0.0042 0.0114 0.0053 0.0075 0.0085 0.0066\n",
      "  0.0042 0.0057 0.0038 0.0038 0.0028 0.0023 0.0019 0.01   0.008  0.0038\n",
      "  0.0077 0.0062 0.0137 0.0055 0.0125 0.0046 0.0106 0.0072 0.007  0.0189]]\n",
      "[0.0094]\n"
     ]
    }
   ],
   "source": [
    "for i in range(5):\n",
    "    print(x_test[i])\n",
    "    print(y_test[i])"
   ]
  },
  {
   "cell_type": "code",
   "execution_count": 27,
   "metadata": {},
   "outputs": [],
   "source": [
    "#x_train = x_train.reshape((x_train.shape[0], 1, x_train.shape[1])) # Reshaping done for LSTM as it needs 3D input\n",
    "#x_test = x_test.reshape((x_test.shape[0], 1, x_test.shape[1]))\n",
    "#x_eval = x_eval.reshape((x_eval.shape[0], 1, x_eval.shape[1]))"
   ]
  },
  {
   "cell_type": "code",
   "execution_count": 28,
   "metadata": {},
   "outputs": [],
   "source": [
    "#seerwe"
   ]
  },
  {
   "cell_type": "code",
   "execution_count": null,
   "metadata": {},
   "outputs": [],
   "source": []
  },
  {
   "cell_type": "code",
   "execution_count": 29,
   "metadata": {},
   "outputs": [],
   "source": [
    "def totaltestpredictionerror(y_test, y_testresult):\n",
    "    ytestdiff = y_test - y_testresult\n",
    "    ytestdiffabs = np.absolute(ytestdiff)\n",
    "    sumoftesterrors = np.sum(ytestdiffabs) \n",
    "    y_test = None\n",
    "    y_testresult = None\n",
    "    ytestdiff = None\n",
    "    ytestdiffabs =  None\n",
    "    \n",
    "    return sumoftesterrors"
   ]
  },
  {
   "cell_type": "code",
   "execution_count": 30,
   "metadata": {},
   "outputs": [],
   "source": [
    "def totalevalpredictionerror(y_eval, y_evalresult):\n",
    "    yevaldiff = y_eval - y_evalresult\n",
    "    yevaldiffabs = np.absolute(yevaldiff)\n",
    "    sumofevalerrors = np.sum(yevaldiffabs)\n",
    "    y_eval = None\n",
    "    y_evaltresult = None\n",
    "    yevaldiff = None\n",
    "    ytestdiffabs =  None\n",
    "    \n",
    "    return sumofevalerrors"
   ]
  },
  {
   "cell_type": "code",
   "execution_count": 31,
   "metadata": {},
   "outputs": [],
   "source": [
    "def totalpredictionerror(y_test, y_testresult, y_eval, y_evalresult):\n",
    "    ytestdiff = y_test - y_testresult\n",
    "    yevaldiff = y_eval - y_evalresult\n",
    "    ytestdiffabs = np.absolute(ytestdiff)\n",
    "    yevaldiffabs = np.absolute(yevaldiff)\n",
    "    sumoferrors = np.sum(ytestdiffabs) + np.sum(yevaldiffabs)\n",
    "    y_eval = None\n",
    "    y_evaltresult = None\n",
    "    y_test = None\n",
    "    y_testresult = None\n",
    "    ytestdiff = None\n",
    "    yevaldiff = None\n",
    "    ytestdiffabs =  None\n",
    "    \n",
    "    return sumoferrors"
   ]
  },
  {
   "cell_type": "code",
   "execution_count": 32,
   "metadata": {},
   "outputs": [
    {
     "name": "stdout",
     "output_type": "stream",
     "text": [
      "(8848, 1, 100)\n",
      "(8848, 1)\n",
      "(7963, 1, 100)\n",
      "(7963, 1)\n",
      "(796, 1, 100)\n",
      "(796, 1)\n",
      "(89, 1, 100)\n",
      "(89, 1)\n"
     ]
    }
   ],
   "source": [
    "print(xxx.shape)\n",
    "print(yyy.shape)\n",
    "print(x_train.shape)\n",
    "print(y_train.shape)\n",
    "print(x_test.shape) \n",
    "print(y_test.shape)\n",
    "print(x_eval.shape) \n",
    "print(y_eval.shape)"
   ]
  },
  {
   "cell_type": "code",
   "execution_count": 33,
   "metadata": {},
   "outputs": [
    {
     "name": "stdout",
     "output_type": "stream",
     "text": [
      "(8848, 1, 100)\n",
      "(8848, 1)\n",
      "  runningx --  [[[0. 0. 0. 0. 0. 0. 0. 0. 0. 0. 0. 0. 0. 0. 0. 0. 0. 0. 0. 0. 0. 0. 0.\n",
      "   0. 0. 0. 0. 0. 0. 0. 0. 0. 0. 0. 0. 0. 0. 0. 0. 0. 0. 0. 0. 0. 0. 0.\n",
      "   0. 0. 0. 0. 0. 0. 0. 0. 0. 0. 0. 0. 0. 0. 0. 0. 0. 0. 0. 0. 0. 0. 0.\n",
      "   0. 0. 0. 0. 0. 0. 0. 0. 0. 0. 0. 0. 0. 0. 0. 0. 0. 0. 0. 0. 0. 0. 0.\n",
      "   0. 0. 0. 0. 0. 0. 0. 0.]]]\n",
      "  runningy --  [[0.]]\n",
      "  initialx --  [[[0.0029 0.005  0.0032 0.0071 0.0027 0.0037 0.0075 0.0053 0.0089 0.0037\n",
      "   0.0048 0.0046 0.0038 0.0062 0.0028 0.0026 0.0034 0.0028 0.0093 0.0053\n",
      "   0.0042 0.0018 0.0064 0.0056 0.0052 0.0065 0.0068 0.0029 0.0045 0.0036\n",
      "   0.0041 0.0046 0.0045 0.0058 0.0028 0.0039 0.0029 0.0073 0.0043 0.003\n",
      "   0.0028 0.0037 0.0034 0.0081 0.0061 0.0032 0.0056 0.005  0.0045 0.0051\n",
      "   0.0035 0.0063 0.0057 0.0035 0.0031 0.0054 0.003  0.0045 0.0081 0.0067\n",
      "   0.0062 0.0055 0.0128 0.0104 0.0183 0.0119 0.0093 0.0126 0.0144 0.021\n",
      "   0.0185 0.011  0.0279 0.0168 0.0191 0.0235 0.0244 0.0328 0.0195 0.0191\n",
      "   0.0167 0.0134 0.019  0.0195 0.0135 0.013  0.0137 0.015  0.0092 0.0067\n",
      "   0.0143 0.0075 0.0112 0.0034 0.0077 0.0084 0.0135 0.0096 0.0081 0.0057]]]\n",
      "  initialy --  [0.0066]\n",
      "WARNING:tensorflow:From /home/aj/miniconda3/lib/python3.7/site-packages/tensorflow/python/ops/init_ops.py:97: calling GlorotUniform.__init__ (from tensorflow.python.ops.init_ops) with dtype is deprecated and will be removed in a future version.\n",
      "Instructions for updating:\n",
      "Call initializer instance with the dtype argument instead of passing it to the constructor\n",
      "WARNING:tensorflow:From /home/aj/miniconda3/lib/python3.7/site-packages/tensorflow/python/ops/init_ops.py:1251: calling VarianceScaling.__init__ (from tensorflow.python.ops.init_ops) with dtype is deprecated and will be removed in a future version.\n",
      "Instructions for updating:\n",
      "Call initializer instance with the dtype argument instead of passing it to the constructor\n",
      "WARNING:tensorflow:From /home/aj/miniconda3/lib/python3.7/site-packages/tensorflow/python/ops/init_ops.py:97: calling Orthogonal.__init__ (from tensorflow.python.ops.init_ops) with dtype is deprecated and will be removed in a future version.\n",
      "Instructions for updating:\n",
      "Call initializer instance with the dtype argument instead of passing it to the constructor\n",
      "WARNING:tensorflow:From /home/aj/miniconda3/lib/python3.7/site-packages/tensorflow/python/ops/init_ops.py:97: calling Zeros.__init__ (from tensorflow.python.ops.init_ops) with dtype is deprecated and will be removed in a future version.\n",
      "Instructions for updating:\n",
      "Call initializer instance with the dtype argument instead of passing it to the constructor\n",
      "WARNING:tensorflow:From /home/aj/miniconda3/lib/python3.7/site-packages/tensorflow/python/ops/math_grad.py:1250: add_dispatch_support.<locals>.wrapper (from tensorflow.python.ops.array_ops) is deprecated and will be removed in a future version.\n",
      "Instructions for updating:\n",
      "Use tf.where in 2.0, which has the same broadcast rule as np.where\n"
     ]
    }
   ],
   "source": [
    "print(xxx.shape)\n",
    "print(yyy.shape)\n",
    "\n",
    "runningx = np.zeros((1, 1, 100))\n",
    "\n",
    "runningy = np.zeros((1, 1))\n",
    "\n",
    "ypreds = np.zeros((100, 1, 1))\n",
    "\n",
    "initialx = xxx[8747]  #]xxx[len(xxx)-1]\n",
    "initialx = initialx.reshape(1, 1, 100)\n",
    "initialy = yyy[8747]\n",
    "\n",
    "print(\"  runningx -- \", runningx)\n",
    "print(\"  runningy -- \", runningy)\n",
    "print(\"  initialx -- \", initialx)\n",
    "print(\"  initialy -- \", initialy)\n",
    "\n",
    "regressor = load_model(\"EUR24H800Xrange555.h5\")\n",
    "\n",
    "opt = tkeras.optimizers.Adam(learning_rate=0.000125)\n",
    "regressor.compile(loss='mean_squared_error', optimizer=opt)"
   ]
  },
  {
   "cell_type": "code",
   "execution_count": 43,
   "metadata": {},
   "outputs": [
    {
     "name": "stdout",
     "output_type": "stream",
     "text": [
      "[[0.01025397]]\n"
     ]
    }
   ],
   "source": [
    "\n",
    "\n",
    "runningx = initialx \n",
    "\n",
    "with tf.device('gpu'):\n",
    "\n",
    "    for i in range(1):\n",
    "        ypreds[i] = regressor.predict(runningx)\n",
    "\n",
    "        \n",
    "        print(ypreds[i])\n",
    "     \n"
   ]
  },
  {
   "cell_type": "code",
   "execution_count": null,
   "metadata": {},
   "outputs": [],
   "source": [
    "terdteryse\n",
    "\n",
    "\n",
    "regressor = load_model(\"EUR24H800Xrange555.h5\")\n",
    "\n",
    "opt = tkeras.optimizers.Adam(learning_rate=0.000125)\n",
    "regressor.compile(loss='mean_squared_error', optimizer=opt)\n",
    "\n",
    "\n",
    "with tf.device('gpu'):\n",
    "\n",
    "    y_result = regressor.predict(xxx)\n",
    "\n",
    "    yevaldiff = totalevalpredictionerror(yyy, y_result)\n",
    "\n",
    "    print(\"  Eval -- \", yevaldiff)\n",
    "            "
   ]
  },
  {
   "cell_type": "code",
   "execution_count": null,
   "metadata": {},
   "outputs": [],
   "source": [
    "ydiff = yyy - y_result\n",
    "ydiffreal = ydiff # * 0.06879999999999997"
   ]
  },
  {
   "cell_type": "code",
   "execution_count": null,
   "metadata": {},
   "outputs": [],
   "source": [
    "for i in range(5):\n",
    "    print(yyy[i]) \n",
    "    print(y_result[i])\n",
    "    print(ydiff[i])\n",
    "    print(\"...............\")\n",
    "            "
   ]
  },
  {
   "cell_type": "code",
   "execution_count": null,
   "metadata": {},
   "outputs": [],
   "source": [
    "closepricearray1 = np.zeros((10398,1))\n",
    "for i in range(dim_0+TIMESTEPS):\n",
    "            \n",
    "            #print(TIMESTEPS+j+1)\n",
    "        closepricearray1[i] = eurusddata1.iloc[0+i, 1:2]\n",
    "        \n",
    "\n",
    "\n",
    "closepricearray = np.zeros((8848,1))\n",
    "closepricearray = closepricearray1[1550: , :]\n",
    "\n",
    "import matplotlib.pyplot as plt\n",
    "plt.rcParams['figure.figsize'] = [120, 80]\n",
    "x = np.arange(len(closepricearray))\n",
    "\n",
    "plt.plot(x, closepricearray, label=\"Tom\")\n"
   ]
  },
  {
   "cell_type": "code",
   "execution_count": null,
   "metadata": {},
   "outputs": [],
   "source": [
    "print(ydiff.shape)\n",
    "print(closepricearray.shape)\n",
    "\n",
    "import matplotlib.pyplot as plt\n",
    "plt.rcParams['figure.figsize'] = [120, 80]\n",
    "x = np.arange(len(ydiffreal))\n",
    "\n",
    "plt.plot(x, ydiffreal, label=\"Tom\")\n",
    "plt.plot(x, closepricearray, label=\"Dick\")\n"
   ]
  },
  {
   "cell_type": "code",
   "execution_count": null,
   "metadata": {},
   "outputs": [],
   "source": [
    "offsetmin = np.amin(ydiffreal)\n",
    "maxinrange = np.amax(ydiffreal)\n",
    "print(offsetmin)\n",
    "print(maxinrange)"
   ]
  },
  {
   "cell_type": "code",
   "execution_count": null,
   "metadata": {},
   "outputs": [],
   "source": [
    "def percentofcases(ydiff, deviation):\n",
    "    numberofcases = len(ydiff)\n",
    "    numberofcaseswithindeviation = 0\n",
    "    for i in range(numberofcases):\n",
    "        if deviation > np.absolute(ydiff[i]):\n",
    "            numberofcaseswithindeviation = numberofcaseswithindeviation+1\n",
    "    \n",
    "    return numberofcaseswithindeviation/numberofcases*100"
   ]
  },
  {
   "cell_type": "code",
   "execution_count": null,
   "metadata": {},
   "outputs": [],
   "source": [
    "deviation = 0.0001\n",
    "deviationarray = np.zeros((3000,1))\n",
    "for i in range(3000):\n",
    "    deviationarray[i] = percentofcases(ydiffreal, deviation)\n",
    "    print(\"deviation: \", deviation, \"percentofcases :\" , deviationarray[i])\n",
    "    deviation = deviation + 0.0001\n",
    "    "
   ]
  },
  {
   "cell_type": "code",
   "execution_count": null,
   "metadata": {},
   "outputs": [],
   "source": [
    "\n",
    "import matplotlib.pyplot as plt\n",
    "plt.rcParams['figure.figsize'] = [120, 80]\n",
    "x = np.arange(len(deviationarray))\n",
    "\n",
    "plt.plot(x, deviationarray, label=\"Tom\")\n",
    "\n",
    "#68 and 95\n"
   ]
  },
  {
   "cell_type": "code",
   "execution_count": null,
   "metadata": {},
   "outputs": [],
   "source": [
    "offsetmin = np.amin(deviationarray)\n",
    "maxinrange = np.amax(deviationarray)\n",
    "print(offsetmin)\n",
    "print(maxinrange)"
   ]
  },
  {
   "cell_type": "code",
   "execution_count": null,
   "metadata": {},
   "outputs": [],
   "source": [
    "ydiffpercent = ydiffreal/yyy*100"
   ]
  },
  {
   "cell_type": "code",
   "execution_count": null,
   "metadata": {},
   "outputs": [],
   "source": [
    "for i in range(len(ydiffpercent)):\n",
    "    print(ydiffpercent[i])\n",
    "    print(ydiffreal[i])\n",
    "    print(yyy[i])\n",
    "    print('0000000000000000000000000000000000000000000000000000000000')"
   ]
  },
  {
   "cell_type": "code",
   "execution_count": null,
   "metadata": {},
   "outputs": [],
   "source": [
    "import matplotlib.pyplot as plt\n",
    "plt.rcParams['figure.figsize'] = [120, 80]\n",
    "x = np.arange(len(ydiffpercent))\n",
    "\n",
    "plt.plot(x, ydiffpercent, label=\"Tom\")"
   ]
  },
  {
   "cell_type": "code",
   "execution_count": null,
   "metadata": {},
   "outputs": [],
   "source": [
    "def percentofcasesreal(ydiff, deviation):\n",
    "    numberofcases = len(ydiff)\n",
    "    numberofcaseswithindeviation = 0\n",
    "    for i in range(numberofcases):\n",
    "        if  ydiff[i] < deviation:\n",
    "            numberofcaseswithindeviation = numberofcaseswithindeviation+1\n",
    "    \n",
    "    return numberofcaseswithindeviation/numberofcases*100"
   ]
  },
  {
   "cell_type": "code",
   "execution_count": null,
   "metadata": {},
   "outputs": [],
   "source": [
    "offsetmin = np.amin(ydiffpercent)\n",
    "maxinrange = np.amax(ydiffpercent)\n",
    "print(offsetmin)\n",
    "print(maxinrange)"
   ]
  },
  {
   "cell_type": "code",
   "execution_count": null,
   "metadata": {},
   "outputs": [],
   "source": [
    "deviation = 1\n",
    "deviationarraypercent = np.zeros((600,1))\n",
    "for i in range(600):\n",
    "    deviationarraypercent[i] = percentofcases(ydiffpercent, deviation)\n",
    "    print(\"deviation: \", deviation, \"percentofcases :\" , deviationarraypercent[i])\n",
    "    deviation = deviation + 1\n",
    "    "
   ]
  },
  {
   "cell_type": "code",
   "execution_count": null,
   "metadata": {},
   "outputs": [],
   "source": [
    "import matplotlib.pyplot as plt\n",
    "plt.rcParams['figure.figsize'] = [120, 80]\n",
    "x = np.arange(len(deviationarraypercent))\n",
    "\n",
    "plt.plot(x, deviationarraypercent, label=\"Tom\")"
   ]
  },
  {
   "cell_type": "code",
   "execution_count": null,
   "metadata": {},
   "outputs": [],
   "source": [
    "deviation = 1\n",
    "deviationhist = np.zeros((60,1))\n",
    "for i in range(60):\n",
    "    deviationhist[i] = deviationarraypercent[i*10+ 10] - deviationarraypercent[i*10]\n",
    "    print(\"deviation: \", i*10+ 10, \"percentofcases :\" , deviationhist[i])\n",
    "    "
   ]
  },
  {
   "cell_type": "code",
   "execution_count": null,
   "metadata": {},
   "outputs": [],
   "source": [
    "import matplotlib.pyplot as plt\n",
    "import numpy as np\n",
    " \n",
    "\n",
    "# stem function: If no X provided, a sequence of numbers is created by python:\n",
    "plt.stem(deviationhist)\n",
    "plt.show()\n",
    " \n"
   ]
  },
  {
   "cell_type": "code",
   "execution_count": null,
   "metadata": {},
   "outputs": [],
   "source": []
  },
  {
   "cell_type": "code",
   "execution_count": null,
   "metadata": {},
   "outputs": [],
   "source": []
  },
  {
   "cell_type": "code",
   "execution_count": null,
   "metadata": {},
   "outputs": [],
   "source": [
    "start prediction  here"
   ]
  },
  {
   "cell_type": "code",
   "execution_count": null,
   "metadata": {},
   "outputs": [],
   "source": [
    "\n",
    "deviation = 0.00001\n",
    "deviationarray = np.zeros((3000,1))\n",
    "for i in range(3000):\n",
    "    deviationarray[i] = percentofcases(ydiff, deviation)\n",
    "    #print(\"deviation: \", deviation, \"percentofcases :\" , deviationarray[i])\n",
    "    deviation = deviation + 0.000001\n",
    "   "
   ]
  },
  {
   "cell_type": "code",
   "execution_count": null,
   "metadata": {},
   "outputs": [],
   "source": [
    "import matplotlib.pyplot as plt\n",
    "plt.rcParams['figure.figsize'] = [120, 80]\n",
    "x = np.arange(len(deviationarray))\n",
    "\n",
    "plt.plot(x, deviationarray, label=\"Tom\")"
   ]
  },
  {
   "cell_type": "code",
   "execution_count": null,
   "metadata": {},
   "outputs": [],
   "source": [
    "gtc"
   ]
  },
  {
   "cell_type": "code",
   "execution_count": null,
   "metadata": {},
   "outputs": [],
   "source": [
    "unitsize = 800\n",
    "\n",
    "regressor = Sequential()\n",
    "\n",
    "regressor.add(LSTM(units = unitsize, return_sequences = True, input_shape = (x_train.shape[1], x_train.shape[2])))\n",
    "\n",
    "regressor.add(LSTM(units = unitsize, return_sequences = True))\n",
    "\n",
    "regressor.add(LSTM(units = unitsize, return_sequences = True))\n",
    "\n",
    "regressor.add(LSTM(units = unitsize, return_sequences = True))\n",
    "\n",
    "regressor.add(LSTM(units = unitsize))\n",
    "\n",
    "regressor.add(Dense(units = 1))\n",
    "\n",
    "opt = tkeras.optimizers.Adam(learning_rate=0.000125)\n",
    "regressor.compile(loss='mean_squared_error', optimizer=opt)\n",
    "\n",
    "with tf.device('gpu'):\n",
    "    lowfilenumber = 0\n",
    "    lowscore = 129\n",
    "    for i in range(60000):\n",
    "        \n",
    "        history = regressor.fit(x_train, y_train, epochs = 1, batch_size = 1024, verbose=1)\n",
    "        #regressor.save(\"EUR24H800Xrangesaving.h5\")\n",
    "        y_testresult = regressor.predict(x_test)\n",
    "        y_evalresult = regressor.predict(x_eval)\n",
    "        \n",
    "\n",
    "        ytestdiff = totaltestpredictionerror(y_test, y_testresult)\n",
    "        yevaldiff = totalevalpredictionerror(y_eval, y_evalresult)\n",
    "        ytotaldiff = totalpredictionerror(y_test, y_testresult, y_eval, y_evalresult)\n",
    "        print(i, \": Total -- -------------\", ytotaldiff)\n",
    "        \n",
    "        if lowscore > ytotaldiff:\n",
    "            lowscore = ytotaldiff\n",
    "            lowfilenumber = i\n",
    "            print(\"lowfilenumber-\", lowfilenumber,\"                          LOWSCORE - \", lowscore)\n",
    "            regressor.save(\"EUR24H800Xrangesaving.h5\")\n",
    "        cutoff = 3.50\n",
    "        if ytotaldiff < cutoff:\n",
    "            print(i+0)\n",
    "            regressor.save(\"EUR24H800Xrange\"+str(i+0)+\".h5\")\n",
    "            print(\"  Test -- \", ytestdiff, \"  Eval -- \", yevaldiff, \"  Total -- -------------\", ytotaldiff)\n"
   ]
  },
  {
   "cell_type": "code",
   "execution_count": null,
   "metadata": {},
   "outputs": [],
   "source": [
    "with tf.device('gpu'):\n",
    "    for i in range(1):\n",
    "        print(i)\n",
    "        history = regressor.fit(x_train, y_train, epochs = 1, batch_size = 1028)\n",
    "        regressor.save(\"EURUSDDAILYCLOSEM7.h5\")\n",
    "        \n",
    "        \n",
    "        #hist_df = pd.DataFrame(history.history) \n",
    "    # or save to csv: \n",
    "    #hist_csv_file = \"EURUSDDailyhistory\"+str(i+offset)+\".csv\"\n",
    "    #with open(hist_csv_file, mode='w') as f:\n",
    "        #hist_df.to_csv(f)"
   ]
  },
  {
   "cell_type": "code",
   "execution_count": null,
   "metadata": {},
   "outputs": [],
   "source": [
    "y_testresult = regressor.predict(x_test)\n",
    "y_evalresult = regressor.predict(x_eval)"
   ]
  },
  {
   "cell_type": "code",
   "execution_count": null,
   "metadata": {},
   "outputs": [],
   "source": [
    "for i in range(5):\n",
    "    print(y_testresult[i])\n",
    "    print(y_test[i]) "
   ]
  },
  {
   "cell_type": "code",
   "execution_count": null,
   "metadata": {},
   "outputs": [],
   "source": [
    "for i in range(5):\n",
    "    print(y_testresult[i])\n",
    "    print(y_test[i]) "
   ]
  },
  {
   "cell_type": "code",
   "execution_count": null,
   "metadata": {},
   "outputs": [],
   "source": [
    "plot.plot(history.history['loss'], label='MAE (training data)')\n",
    "#plot.plot(history.history['val_loss'], label='MAE (validation data)')\n",
    "\n",
    "plot.show()"
   ]
  },
  {
   "cell_type": "code",
   "execution_count": null,
   "metadata": {},
   "outputs": [],
   "source": [
    "import matplotlib.pyplot as plt\n",
    "plt.rcParams['figure.figsize'] = [120, 80]\n",
    "x = np.arange(len(y_testresult))\n",
    "y=y_testresult.reshape(927)\n",
    "y1=y_test.reshape(927)\n",
    "\n",
    "yyy = y_testresult - y_test\n",
    "ydif = yyy.reshape(927)\n",
    "\n",
    "#plt.plot(x, y, label=\"John\")\n",
    "\n",
    "#plt.plot(x, y1, label=\"David\")\n",
    "\n",
    "plt.plot(x, y_testresult - y_test, label=\"Tom\")\n",
    "\n"
   ]
  },
  {
   "cell_type": "code",
   "execution_count": null,
   "metadata": {},
   "outputs": [],
   "source": [
    "rom tensorflow import keras\n",
    "from tensorflow.keras import layers\n",
    "\n",
    "regressor = load_model(\"EURUSD24H800X59228.h5\")\n",
    "\n",
    "lr_schedule = keras.optimizers.schedules.ExponentialDecay(\n",
    "    initial_learning_rate=0.005,\n",
    "    decay_steps=1000,\n",
    "    decay_rate=0.75,\n",
    "    staircase=True)\n",
    "\n",
    "opt = tkeras.optimizers.Adam(learning_rate=0.000125)\n",
    "regressor.compile(loss='mean_squared_error', optimizer=opt)\n",
    "\n",
    "#model = load_model(\"EURUSDDAILY\"+str(offset-1)+\".h5\")\n",
    "#model.compile(optimizer='adam', loss='mean_squared_error', \n",
    "              #metrics=[tf.keras.metrics.MeanAbsoluteError()])"
   ]
  },
  {
   "cell_type": "code",
   "execution_count": null,
   "metadata": {},
   "outputs": [],
   "source": [
    "good till here\n"
   ]
  },
  {
   "cell_type": "code",
   "execution_count": null,
   "metadata": {
    "scrolled": true
   },
   "outputs": [],
   "source": [
    "scrap\n",
    "gc.collect()\n",
    "offset = 0\n",
    "\n",
    "ytestdiff = np.zeros(600)\n",
    "yevaldiff = np.zeros(600)\n",
    "ytotaldiff = np.zeros(600)\n",
    "\n",
    "#model = load_model(\"EURUSDDAILY\"+str(offset-1)+\".h5\")\n",
    "#model.compile(optimizer='adam', loss='mean_squared_error', \n",
    "              #metrics=[tf.keras.metrics.MeanAbsoluteError()])\n",
    "\n",
    "with tf.device('gpu'):\n",
    "    for i in range(600):\n",
    "        history = model.fit(x_train, y_train, epochs = 1, batch_size = 64)\n",
    "        model.save(\"EURUSD24H\"+str(i+offset)+\".h5\")\n",
    "        y_testresult = model.predict(x_test)\n",
    "        y_evalresult = model.predict(x_eval)\n",
    "\n",
    "        ytestdiff[i] = totaltestpredictionerror(y_test, y_testresult)\n",
    "        yevaldiff[i] = totalevalpredictionerror(y_eval, y_evalresult)\n",
    "        ytotaldiff[i] = totalpredictionerror(y_test, y_testresult, y_eval, y_evalresult)\n",
    "\n",
    "        print(\"Iter#--\", i, )\n",
    "        print(\"  Test -- \", ytestdiff[i], \"  Eval -- \", yevaldiff[i], \"  Total -- \", ytotaldiff[i])\n",
    "\n",
    "\n",
    "        gc.collect()\n"
   ]
  },
  {
   "cell_type": "code",
   "execution_count": null,
   "metadata": {},
   "outputs": [],
   "source": [
    "scrap\n",
    "for i in range(50):\n",
    "    print(y_test[i])\n",
    "    print(y_testresult[i])"
   ]
  },
  {
   "cell_type": "code",
   "execution_count": null,
   "metadata": {},
   "outputs": [],
   "source": []
  },
  {
   "cell_type": "code",
   "execution_count": null,
   "metadata": {},
   "outputs": [],
   "source": []
  },
  {
   "cell_type": "code",
   "execution_count": null,
   "metadata": {},
   "outputs": [],
   "source": []
  }
 ],
 "metadata": {
  "kernelspec": {
   "display_name": "Python 3",
   "language": "python",
   "name": "python3"
  },
  "language_info": {
   "codemirror_mode": {
    "name": "ipython",
    "version": 3
   },
   "file_extension": ".py",
   "mimetype": "text/x-python",
   "name": "python",
   "nbconvert_exporter": "python",
   "pygments_lexer": "ipython3",
   "version": "3.7.7"
  }
 },
 "nbformat": 4,
 "nbformat_minor": 2
}
